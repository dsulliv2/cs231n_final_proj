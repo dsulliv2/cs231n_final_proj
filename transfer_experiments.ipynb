{
 "cells": [
  {
   "cell_type": "code",
   "execution_count": 25,
   "metadata": {},
   "outputs": [],
   "source": [
    "from keras.models import Model, Sequential\n",
    "from keras.applications.inception_v3 import InceptionV3\n",
    "from keras.preprocessing import image\n",
    "from keras.layers import Dense, Flatten, Dropout, Input, BatchNormalization\n",
    "from keras.layers import Convolution2D, MaxPooling2D, AveragePooling2D, GlobalAveragePooling2D\n",
    "from keras.layers.advanced_activations import ELU\n",
    "from keras.optimizers import Adam\n",
    "from keras import backend as K\n",
    "import numpy as np\n",
    "import os\n",
    "import random\n",
    "import pandas as pd\n",
    "from skimage.io import imread\n",
    "from keras.callbacks import EarlyStopping, ModelCheckpoint\n",
    "from scipy import ndimage\n",
    "\n",
    "from sklearn.model_selection import train_test_split\n"
   ]
  },
  {
   "cell_type": "code",
   "execution_count": 9,
   "metadata": {},
   "outputs": [],
   "source": [
    "image_size = (480,640) #or (299, 299)\n",
    "if K.image_dim_ordering() == 'th':\n",
    "    input_shape = (3,) + image_size\n",
    "else:\n",
    "    input_shape = image_size + (3, )\n",
    "    bottleneck_model = InceptionV3(weights='imagenet',\n",
    "                                   include_top=False,\n",
    "                                   input_tensor=Input(input_shape))\n"
   ]
  },
  {
   "cell_type": "code",
   "execution_count": 10,
   "metadata": {},
   "outputs": [],
   "source": [
    "for layer in bottleneck_model.layers:\n",
    "    layer.trainable = False"
   ]
  },
  {
   "cell_type": "code",
   "execution_count": 11,
   "metadata": {},
   "outputs": [
    {
     "name": "stderr",
     "output_type": "stream",
     "text": [
      "/Users/sullivan42/anaconda3/envs/cs231n/lib/python3.6/site-packages/ipykernel_launcher.py:12: UserWarning: Update your `Model` call to the Keras 2 API: `Model(inputs=Tensor(\"in..., outputs=Tensor(\"de...)`\n",
      "  if sys.path[0] == '':\n"
     ]
    }
   ],
   "source": [
    "x = bottleneck_model.input\n",
    "y = bottleneck_model.output\n",
    "# There are different ways to handle the bottleneck output\n",
    "y = GlobalAveragePooling2D()(x)\n",
    "#y = AveragePooling2D((8, 8), strides=(8, 8))(x)\n",
    "#y = Flatten()(y)\n",
    "#y = BatchNormalization()(y)\n",
    "y = Dense(1024, activation='relu')(y)\n",
    "y = Dropout(.5)(y)\n",
    "y = Dense(1)(y)\n",
    "\n",
    "model = Model(input=x, output=y)\n",
    "model.compile(optimizer=Adam(lr=1e-4), loss = 'mse')"
   ]
  },
  {
   "cell_type": "code",
   "execution_count": 12,
   "metadata": {},
   "outputs": [
    {
     "name": "stdout",
     "output_type": "stream",
     "text": [
      "<keras.engine.training.Model object at 0x1a386245f8>\n"
     ]
    }
   ],
   "source": [
    "print(model)"
   ]
  },
  {
   "cell_type": "code",
   "execution_count": 13,
   "metadata": {},
   "outputs": [],
   "source": [
    "dataset_path = '/Users/sullivan42/workspace/cs231n_proj/cs231n_final_proj/data/output2'\n",
    "camera = 'center'\n",
    "steering_log = os.path.join(dataset_path, 'steering.csv')\n",
    "image_log = os.path.join(dataset_path, 'camera.csv')\n",
    "cam_path = '/Users/sullivan42/workspace/cs231n_proj/cs231n_final_proj/data/output2/center'\n"
   ]
  },
  {
   "cell_type": "code",
   "execution_count": 26,
   "metadata": {},
   "outputs": [],
   "source": [
    "df=pd.read_csv(os.path.join(dataset_path,'interpolated.csv'), sep=',')\n",
    "h = df.head(1302)\n",
    "one = df.sample(1)\n",
    "train, test = train_test_split(df, test_size=0.2)"
   ]
  },
  {
   "cell_type": "code",
   "execution_count": 15,
   "metadata": {},
   "outputs": [],
   "source": [
    "dataset_path = '/Users/sullivan42/workspace/cs231n_proj/cs231n_final_proj/data/output2'\n",
    "\n",
    "imgs = []\n",
    "angles = []\n",
    "for index, row in h.iterrows():\n",
    "    #print(row['frame_id'])\n",
    "    if((row['frame_id'] == 'center_camera')):\n",
    "        #print(row['filename'])\n",
    "        fname = row['filename'] \n",
    "        img = imread(os.path.join(dataset_path, \"{}\".format(fname))) # (480,640,3) np array\n",
    "        imgs.append(img)\n",
    "        angles.append(row['angle'])"
   ]
  },
  {
   "cell_type": "code",
   "execution_count": 16,
   "metadata": {},
   "outputs": [],
   "source": [
    "img_block = np.stack(imgs, axis=0)\n",
    "angles_block = np.stack(angles, axis=0)"
   ]
  },
  {
   "cell_type": "code",
   "execution_count": 17,
   "metadata": {},
   "outputs": [
    {
     "name": "stdout",
     "output_type": "stream",
     "text": [
      "Epoch 1/1\n",
      "434/434 [==============================] - 3s 6ms/step - loss: 75.0420\n"
     ]
    },
    {
     "data": {
      "text/plain": [
       "<keras.callbacks.History at 0x1a3862ad30>"
      ]
     },
     "execution_count": 17,
     "metadata": {},
     "output_type": "execute_result"
    }
   ],
   "source": [
    "model.fit(x=img_block, y=angles_block)\n"
   ]
  },
  {
   "cell_type": "code",
   "execution_count": 27,
   "metadata": {},
   "outputs": [],
   "source": [
    "def generator(df, mode, batch_size):\n",
    "    dataset_path = '/Users/sullivan42/workspace/cs231n_proj/cs231n_final_proj/data/output2'\n",
    "    imgs = []\n",
    "    angles = []\n",
    "    while True:\n",
    "        while len(angles) < batch_size:\n",
    "            # choose random index in features\n",
    "            row = df.sample(n=1, replace=False, weights=None)\n",
    "            id = row['frame_id'].astype(str)\n",
    "            t = id == 'center_camera'\n",
    "            #print(t.item())\n",
    "            is_center = t.item()\n",
    "            is_left =  (id == 'left_camera').item()\n",
    "            is_right =  (id == 'left_camera').item()\n",
    "\n",
    "            if(True):\n",
    "                #print(row['filename'])\n",
    "                fname = row['filename'].item()\n",
    "                img = imread(os.path.join(dataset_path, \"{}\".format(fname))) # (480,640,3) np array\n",
    "                angle = row['angle']\n",
    "                if mode == 'xval' or mode == 'test':\n",
    "                    if is_center:\n",
    "                        imgs.append(img)\n",
    "                        angles.append(angle) \n",
    "                else:\n",
    "                    do_flip = random.randint(0, 1)\n",
    "                    do_brighten = random.randint(-1, 1)\n",
    "                    do_rotate = random.randint(0, 1)\n",
    "                    if is_left:\n",
    "                        angle += .25\n",
    "                    if is_right:\n",
    "                        angle -= .25\n",
    "                        dy = 25 #in\n",
    "                        speed = row['speed']\n",
    "                        tr = 1#s\n",
    "                        #angle += np.arctan(dy/tr)\n",
    "                        #of car wandering off to the side, \n",
    "                        #and recovering. We will add a small angle .25 \n",
    "                        #to the left camera and subtract a small angle of \n",
    "                        #0.25 from the right camera. The main idea being the\n",
    "                        #left camera has to move right to get to center,\n",
    "                        #and right camera has to move left.\n",
    "                    if do_flip > 0:\n",
    "                        angle *= -1\n",
    "                        img = np.fliplr(img)\n",
    "                    if do_rotate:\n",
    "                        #rotate without affecting steering\n",
    "                        rotate = random.uniform(-1, 1)\n",
    "                        img = ndimage.rotate(img, rotate, reshape=False)\n",
    "                    if do_brighten:\n",
    "                        #blurr\n",
    "                        img = ndimage.gaussian_filter(img, sigma=3)\n",
    "                    imgs.append(img)\n",
    "                    angles.append(angle) \n",
    "        img_block = np.stack(imgs, axis=0)\n",
    "        angles_block = np.stack(angles, axis=0)\n",
    "        yield img_block, angles_block"
   ]
  },
  {
   "cell_type": "code",
   "execution_count": 32,
   "metadata": {},
   "outputs": [
    {
     "name": "stderr",
     "output_type": "stream",
     "text": [
      "/Users/sullivan42/anaconda3/envs/cs231n/lib/python3.6/site-packages/ipykernel_launcher.py:14: UserWarning: The semantics of the Keras 2 argument `steps_per_epoch` is not the same as the Keras 1 argument `samples_per_epoch`. `steps_per_epoch` is the number of batches to draw from the generator at each epoch. Basically steps_per_epoch = samples_per_epoch/batch_size. Similarly `nb_val_samples`->`validation_steps` and `val_samples`->`steps` arguments have changed. Update your method calls accordingly.\n",
      "  \n",
      "/Users/sullivan42/anaconda3/envs/cs231n/lib/python3.6/site-packages/ipykernel_launcher.py:14: UserWarning: Update your `fit_generator` call to the Keras 2 API: `fit_generator(<generator..., verbose=1, callbacks=[<keras.ca..., validation_data=<generator..., steps_per_epoch=560, epochs=12, validation_steps=240)`\n",
      "  \n"
     ]
    },
    {
     "name": "stdout",
     "output_type": "stream",
     "text": [
      "Epoch 1/12\n",
      "560/560 [==============================] - 130s 232ms/step - loss: 0.0020 - val_loss: 0.0049\n",
      "Epoch 2/12\n",
      "560/560 [==============================] - 117s 209ms/step - loss: 0.0018 - val_loss: 0.0046\n",
      "Epoch 3/12\n",
      "560/560 [==============================] - 117s 209ms/step - loss: 0.0017 - val_loss: 0.0046\n",
      "Epoch 4/12\n",
      "560/560 [==============================] - 117s 209ms/step - loss: 0.0017 - val_loss: 0.0046\n",
      "Epoch 5/12\n",
      "560/560 [==============================] - 118s 210ms/step - loss: 0.0016 - val_loss: 0.0047\n",
      "Epoch 6/12\n",
      "560/560 [==============================] - 119s 212ms/step - loss: 0.0016 - val_loss: 0.0047\n",
      "Epoch 7/12\n",
      "560/560 [==============================] - 118s 211ms/step - loss: 0.0016 - val_loss: 0.0046\n"
     ]
    },
    {
     "data": {
      "text/plain": [
       "<keras.callbacks.History at 0x1a830e3b00>"
      ]
     },
     "execution_count": 32,
     "metadata": {},
     "output_type": "execute_result"
    }
   ],
   "source": [
    "#model.fit_generator(generator(df, 50), samples_per_epoch=50, nb_epoch=10)\n",
    "\n",
    "#xval = yield img_block,angles_block\n",
    "\n",
    "callbacks = [EarlyStopping(monitor='val_loss', patience=3, verbose=0),\n",
    "                    ModelCheckpoint(filepath=os.path.join('weights_HMB.hdf5'),\n",
    "                    monitor='val_loss', verbose=0, save_best_only=True)]\n",
    "\n",
    "\n",
    "\"\"\"model.fit_generator(train_generator, samples_per_epoch=6400, nb_epoch=nb_epoch,verbose=1,\n",
    "                    callbacks=callbacks, validation_data=val_generator,nb_val_samples=1600)\"\"\"\n",
    "\n",
    "model.fit_generator(generator(train,'train',50), samples_per_epoch=140*4, nb_epoch=12,verbose=1,\n",
    "                    callbacks=callbacks, validation_data=generator(train,'xval',50),nb_val_samples=60*4)"
   ]
  },
  {
   "cell_type": "code",
   "execution_count": 30,
   "metadata": {},
   "outputs": [
    {
     "ename": "IndexError",
     "evalue": "invalid index to scalar variable.",
     "output_type": "error",
     "traceback": [
      "\u001b[0;31m---------------------------------------------------------------------------\u001b[0m",
      "\u001b[0;31mIndexError\u001b[0m                                Traceback (most recent call last)",
      "\u001b[0;32m<ipython-input-30-2021ab494d67>\u001b[0m in \u001b[0;36m<module>\u001b[0;34m()\u001b[0m\n\u001b[1;32m      1\u001b[0m \u001b[0mscores\u001b[0m \u001b[0;34m=\u001b[0m \u001b[0mmodel\u001b[0m\u001b[0;34m.\u001b[0m\u001b[0mevaluate_generator\u001b[0m\u001b[0;34m(\u001b[0m\u001b[0mgenerator\u001b[0m\u001b[0;34m(\u001b[0m\u001b[0mtest\u001b[0m\u001b[0;34m,\u001b[0m\u001b[0;34m'test'\u001b[0m\u001b[0;34m,\u001b[0m\u001b[0;36m50\u001b[0m\u001b[0;34m)\u001b[0m\u001b[0;34m,\u001b[0m\u001b[0;36m514\u001b[0m\u001b[0;34m)\u001b[0m \u001b[0;31m#1514 testing images\u001b[0m\u001b[0;34m\u001b[0m\u001b[0m\n\u001b[0;32m----> 2\u001b[0;31m \u001b[0mprint\u001b[0m\u001b[0;34m(\u001b[0m\u001b[0;34m\"Accuracy = \"\u001b[0m\u001b[0;34m,\u001b[0m \u001b[0mscores\u001b[0m\u001b[0;34m[\u001b[0m\u001b[0;36m1\u001b[0m\u001b[0;34m]\u001b[0m\u001b[0;34m)\u001b[0m\u001b[0;34m\u001b[0m\u001b[0m\n\u001b[0m",
      "\u001b[0;31mIndexError\u001b[0m: invalid index to scalar variable."
     ]
    }
   ],
   "source": [
    "scores = model.evaluate_generator(generator(test,'test',50),514) #1514 testing images\n",
    "print(\"Accuracy = \", scores[1])"
   ]
  },
  {
   "cell_type": "code",
   "execution_count": 31,
   "metadata": {},
   "outputs": [
    {
     "name": "stdout",
     "output_type": "stream",
     "text": [
      "0.005845813546329737\n"
     ]
    }
   ],
   "source": [
    "print(scores)"
   ]
  },
  {
   "cell_type": "code",
   "execution_count": null,
   "metadata": {},
   "outputs": [],
   "source": []
  }
 ],
 "metadata": {
  "kernelspec": {
   "display_name": "Python 3",
   "language": "python",
   "name": "python3"
  },
  "language_info": {
   "codemirror_mode": {
    "name": "ipython",
    "version": 3
   },
   "file_extension": ".py",
   "mimetype": "text/x-python",
   "name": "python",
   "nbconvert_exporter": "python",
   "pygments_lexer": "ipython3",
   "version": "3.6.4"
  }
 },
 "nbformat": 4,
 "nbformat_minor": 1
}
